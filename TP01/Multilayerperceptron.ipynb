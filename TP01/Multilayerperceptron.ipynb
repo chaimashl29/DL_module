{
 "cells": [
  {
   "cell_type": "markdown",
   "metadata": {},
   "source": [
    "# Training an MLP from Scratch"
   ]
  },
  {
   "cell_type": "markdown",
   "metadata": {},
   "source": [
    "# 1- init_params(nx, nh, ny)"
   ]
  },
  {
   "cell_type": "code",
   "execution_count": 1,
   "metadata": {},
   "outputs": [],
   "source": [
    "import numpy as np"
   ]
  },
  {
   "cell_type": "code",
   "execution_count": 2,
   "metadata": {},
   "outputs": [],
   "source": [
    "def init_params(nx,nh,ny):\n",
    "    #nx is the nbr of neurons in the input layer\n",
    "    #nh is the nbr of neurons in the hidden layer\n",
    "    #ny is the nbr of neurons in the output layer\n",
    "    # shape te3 w hwa (nx+1,nh)\n",
    "    w1=np.random.normal(loc=0.0, scale=0.3, size=(nh,nx+1))\n",
    "    w2=np.random.normal(loc=0.0, scale=0.3, size=(ny,nh+1))\n",
    "    params={\"w1\":w1,\n",
    "            \"w2\":w2}\n",
    "    return params"
   ]
  },
  {
   "cell_type": "code",
   "execution_count": 3,
   "metadata": {},
   "outputs": [],
   "source": [
    "params=init_params(2,2,4)"
   ]
  },
  {
   "cell_type": "code",
   "execution_count": 4,
   "metadata": {},
   "outputs": [
    {
     "data": {
      "text/plain": [
       "{'w1': array([[ 0.03732652, -0.0817064 , -0.26263285],\n",
       "        [-0.25190537,  0.92286863,  0.32553491]]),\n",
       " 'w2': array([[ 0.3470947 ,  0.21856849, -0.01815669],\n",
       "        [ 0.28239515,  0.35139101, -0.0944953 ],\n",
       "        [-0.59280949, -0.09762834,  0.6493541 ],\n",
       "        [ 0.05288991,  0.12496636, -0.40649765]])}"
      ]
     },
     "execution_count": 4,
     "metadata": {},
     "output_type": "execute_result"
    }
   ],
   "source": [
    "params"
   ]
  },
  {
   "cell_type": "code",
   "execution_count": 5,
   "metadata": {},
   "outputs": [
    {
     "data": {
      "text/plain": [
       "array([[ 0.03732652, -0.0817064 , -0.26263285],\n",
       "       [-0.25190537,  0.92286863,  0.32553491]])"
      ]
     },
     "execution_count": 5,
     "metadata": {},
     "output_type": "execute_result"
    }
   ],
   "source": [
    "params['w1']"
   ]
  },
  {
   "cell_type": "code",
   "execution_count": 6,
   "metadata": {},
   "outputs": [
    {
     "data": {
      "text/plain": [
       "array([[ 0.3470947 ,  0.21856849, -0.01815669],\n",
       "       [ 0.28239515,  0.35139101, -0.0944953 ],\n",
       "       [-0.59280949, -0.09762834,  0.6493541 ],\n",
       "       [ 0.05288991,  0.12496636, -0.40649765]])"
      ]
     },
     "execution_count": 6,
     "metadata": {},
     "output_type": "execute_result"
    }
   ],
   "source": [
    "params['w2']"
   ]
  },
  {
   "cell_type": "code",
   "execution_count": 7,
   "metadata": {},
   "outputs": [
    {
     "data": {
      "text/plain": [
       "(3, 2)"
      ]
     },
     "execution_count": 7,
     "metadata": {},
     "output_type": "execute_result"
    }
   ],
   "source": [
    "X=np.array([[0.5403, -0.4161],[-0.9900,-0.6536],[0.2837,0.9602]])\n",
    "X.shape"
   ]
  },
  {
   "cell_type": "code",
   "execution_count": 8,
   "metadata": {},
   "outputs": [
    {
     "data": {
      "text/plain": [
       "array([[ 1.    ,  0.5403, -0.4161],\n",
       "       [ 1.    , -0.99  , -0.6536],\n",
       "       [ 1.    ,  0.2837,  0.9602]])"
      ]
     },
     "execution_count": 8,
     "metadata": {},
     "output_type": "execute_result"
    }
   ],
   "source": [
    "m = X.shape[0] \n",
    "X=np.c_[np.ones((m,1)),X]\n",
    "X"
   ]
  },
  {
   "cell_type": "markdown",
   "metadata": {},
   "source": [
    "# 2- Forward prop"
   ]
  },
  {
   "cell_type": "code",
   "execution_count": 9,
   "metadata": {},
   "outputs": [],
   "source": [
    "#from scipy.special import softmax\n",
    "def tanh(x):\n",
    "    return np.tanh(x)\n",
    "def softmax(x):\n",
    "    return np.exp(x) / np.sum(np.exp(x), axis=0)\n",
    "def forward(params,X):\n",
    "    #b = X.shape[0] \n",
    "    #X=np.c_[np.ones((b,1)),X]\n",
    "    z1=np.matmul(params['w1'],X.transpose())\n",
    "    a1=np.tanh(z1)\n",
    "    m = a1.shape[1] \n",
    "    a1=np.r_[np.ones((1,m)),a1]\n",
    "    z2=np.matmul(params['w2'],a1)\n",
    "    y_hat=softmax(z2)\n",
    "    outputs={\"z1\":z1,\n",
    "        \"a1\":a1,\n",
    "        'z2':z2}\n",
    "    return outputs,y_hat\n"
   ]
  },
  {
   "cell_type": "code",
   "execution_count": 10,
   "metadata": {},
   "outputs": [
    {
     "data": {
      "text/plain": [
       "array([[ 1.        ,  1.        ,  1.        ],\n",
       "       [ 0.10210502,  0.28201763, -0.23363759],\n",
       "       [ 0.11080858, -0.88057338,  0.31175763]])"
      ]
     },
     "execution_count": 10,
     "metadata": {},
     "output_type": "execute_result"
    }
   ],
   "source": [
    "outputs,y_hat = forward(params,X)\n",
    "outputs['a1']"
   ]
  },
  {
   "cell_type": "code",
   "execution_count": 11,
   "metadata": {},
   "outputs": [
    {
     "data": {
      "text/plain": [
       "array([[0.32718356, 0.30666381, 0.3246736 ],\n",
       "       [0.30825418, 0.31917277, 0.28809473],\n",
       "       [0.13325943, 0.06087865, 0.16815619],\n",
       "       [0.23130283, 0.31328476, 0.21907548]])"
      ]
     },
     "execution_count": 11,
     "metadata": {},
     "output_type": "execute_result"
    }
   ],
   "source": [
    "y_hat"
   ]
  },
  {
   "cell_type": "code",
   "execution_count": 12,
   "metadata": {},
   "outputs": [
    {
     "name": "stdout",
     "output_type": "stream",
     "text": [
      "Sum of Softmax values: 3.0\n"
     ]
    }
   ],
   "source": [
    "sum_of_softmax = np.sum(y_hat)\n",
    "print(f\"Sum of Softmax values: {sum_of_softmax}\")"
   ]
  },
  {
   "cell_type": "markdown",
   "metadata": {},
   "source": [
    "# 3- Loss_Accuracy "
   ]
  },
  {
   "cell_type": "code",
   "execution_count": 13,
   "metadata": {},
   "outputs": [
    {
     "data": {
      "text/plain": [
       "(4, 3)"
      ]
     },
     "execution_count": 13,
     "metadata": {},
     "output_type": "execute_result"
    }
   ],
   "source": [
    "y=np.array([[0,0,0,1],[0,1,0,0],[0,0,1,0]])\n",
    "y.transpose().shape\n"
   ]
  },
  {
   "cell_type": "code",
   "execution_count": 14,
   "metadata": {},
   "outputs": [],
   "source": [
    "def loss_accuracy(y, y_hat):\n",
    "   y=y.transpose()\n",
    "   epsilon = 1e-10  # Small constant to avoid log(0)\n",
    "   loss = -np.sum(y * np.log(y_hat)) / y.shape[1]\n",
    "   accuracy = np.mean(np.argmax(y_hat, axis=0) == np.argmax(y, axis=0))\n",
    "\n",
    "   return loss, accuracy"
   ]
  },
  {
   "cell_type": "code",
   "execution_count": 15,
   "metadata": {},
   "outputs": [
    {
     "data": {
      "text/plain": [
       "1.4629707396504592"
      ]
     },
     "execution_count": 15,
     "metadata": {},
     "output_type": "execute_result"
    }
   ],
   "source": [
    "loss,accuracy=loss_accuracy(y,y_hat)\n",
    "loss"
   ]
  },
  {
   "cell_type": "code",
   "execution_count": 16,
   "metadata": {},
   "outputs": [
    {
     "data": {
      "text/plain": [
       "0.3333333333333333"
      ]
     },
     "execution_count": 16,
     "metadata": {},
     "output_type": "execute_result"
    }
   ],
   "source": [
    "accuracy"
   ]
  },
  {
   "cell_type": "markdown",
   "metadata": {},
   "source": [
    "# 4- Backward prop"
   ]
  },
  {
   "cell_type": "code",
   "execution_count": 17,
   "metadata": {},
   "outputs": [],
   "source": [
    "def backward(x,params,outputs,y_hat, y):\n",
    "    n=y.shape[0]\n",
    "    y=y.transpose()\n",
    "    w1=params['w1']\n",
    "    w2=params['w2']\n",
    "    z1=outputs['z1']\n",
    "    z2=outputs['z2']\n",
    "    a1=outputs['a1']\n",
    "    dj_dyhat=y_hat-y #derivative of the cross entropy loss\n",
    "    dyhat_dz2=softmax(z2)*(1-softmax(z2))#1# derivative of the softmax activation fct\n",
    "    dz2_dw2=a1\n",
    "    dj_dw2=np.dot(dj_dyhat*dyhat_dz2,dz2_dw2.transpose())\n",
    "    # dj_dw1\n",
    "    \n",
    "    dz2_da1=w2[:,1:]\n",
    "    da1_dz1=1 - np.tanh(z1)**2\n",
    "    dz1_dw1=x\n",
    "    dj_dz2=dj_dyhat*dyhat_dz2\n",
    "\n",
    "    dj_da1=np.dot(dj_dz2.transpose(),dz2_da1)\n",
    "    dj_dz1=dj_da1.transpose()*da1_dz1\n",
    "    dj_dw1=np.dot(dj_dz1,dz1_dw1)\n",
    "    # weights update\n",
    "    grads={\"dj_dw1\":dj_dw1,\n",
    "           \"dj_dw2\":dj_dw2}\n",
    "\n",
    "    return grads\n"
   ]
  },
  {
   "cell_type": "code",
   "execution_count": 18,
   "metadata": {},
   "outputs": [
    {
     "data": {
      "text/plain": [
       "(2, 3)"
      ]
     },
     "execution_count": 18,
     "metadata": {},
     "output_type": "execute_result"
    }
   ],
   "source": [
    "grads=backward(X,params,outputs,y_hat, y)\n",
    "grads['dj_dw1'].shape"
   ]
  },
  {
   "cell_type": "code",
   "execution_count": 19,
   "metadata": {},
   "outputs": [
    {
     "data": {
      "text/plain": [
       "array([[ 0.04225887,  0.05189677,  0.05703522],\n",
       "       [-0.0336265 ,  0.00869923, -0.10670673]])"
      ]
     },
     "execution_count": 19,
     "metadata": {},
     "output_type": "execute_result"
    }
   ],
   "source": [
    "grads['dj_dw1']"
   ]
  },
  {
   "cell_type": "code",
   "execution_count": 20,
   "metadata": {},
   "outputs": [
    {
     "data": {
      "text/plain": [
       "array([[ 0.20841573,  0.00911028, -0.02724184],\n",
       "       [-0.02312754, -0.04881663,  0.15598056],\n",
       "       [-0.09748582,  0.02973876, -0.03763489],\n",
       "       [-0.03179675, -0.00370417, -0.06281026]])"
      ]
     },
     "execution_count": 20,
     "metadata": {},
     "output_type": "execute_result"
    }
   ],
   "source": [
    "grads['dj_dw2']"
   ]
  },
  {
   "cell_type": "markdown",
   "metadata": {},
   "source": [
    "#  mini batch sgd"
   ]
  },
  {
   "cell_type": "code",
   "execution_count": 21,
   "metadata": {},
   "outputs": [],
   "source": [
    "def sgd(params, grads, eta):\n",
    "      \n",
    "     params['w1']-=eta*grads['dj_dw1']\n",
    "     params['w2']-=eta*grads['dj_dw2']\n",
    "     return params"
   ]
  },
  {
   "cell_type": "code",
   "execution_count": 22,
   "metadata": {},
   "outputs": [
    {
     "data": {
      "text/plain": [
       "{'w1': array([[ 0.03310063, -0.08689607, -0.26833637],\n",
       "        [-0.24854272,  0.92199871,  0.33620558]]),\n",
       " 'w2': array([[ 0.32625312,  0.21765746, -0.01543251],\n",
       "        [ 0.2847079 ,  0.35627267, -0.11009335],\n",
       "        [-0.58306091, -0.10060221,  0.65311759],\n",
       "        [ 0.05606959,  0.12533678, -0.40021663]])}"
      ]
     },
     "execution_count": 22,
     "metadata": {},
     "output_type": "execute_result"
    }
   ],
   "source": [
    "sgd(params,grads,0.1)"
   ]
  },
  {
   "cell_type": "code",
   "execution_count": 23,
   "metadata": {},
   "outputs": [],
   "source": [
    "import matplotlib.pyplot as plt\n",
    "def mini_batch_sgd(X, y, params, batch_size=128, epochs=20, eta=0.01):\n",
    "    loss_history = []\n",
    "    accuracy_history = []\n",
    "\n",
    "    for epoch in range(epochs):\n",
    "        total_loss = 0\n",
    "        correct_predictions = 0\n",
    "        #random data\n",
    "        shuffle_indices = np.random.permutation(len(X))\n",
    "        X= X[shuffle_indices]\n",
    "        y = y[shuffle_indices]\n",
    "\n",
    "\n",
    "        for i in range(0, len(X), batch_size):\n",
    "            #Load a batch of data\n",
    "            x_batch = X[i:i + batch_size]\n",
    "            y_batch = y[i:i + batch_size]\n",
    "\n",
    "            outputs, y_hat = forward(params, x_batch)\n",
    "            grads = backward(x_batch, params, outputs, y_hat, y_batch)\n",
    "            params = sgd(params, grads, eta)\n",
    "\n",
    "            batch_loss, batch_accuracy = loss_accuracy(y_batch, y_hat)\n",
    "            total_loss += batch_loss\n",
    "            correct_predictions += batch_accuracy * len(y_batch)\n",
    "\n",
    "        average_loss = total_loss / (len(X) // batch_size)\n",
    "        accuracy = correct_predictions / len(X)\n",
    "\n",
    "        loss_history.append(average_loss)\n",
    "        accuracy_history.append(accuracy)\n",
    "\n",
    "        print(f\"Epoch {epoch + 1}/{epochs} - Loss: {average_loss:.4f} - Accuracy: {accuracy:.4f}\")\n",
    "\n",
    "    plt.figure(figsize=(12, 4))\n",
    "\n",
    "    plt.subplot(1, 2, 1)\n",
    "    plt.plot(loss_history, label=' Loss')\n",
    "    plt.title(' Loss')\n",
    "    plt.xlabel('Epochs')\n",
    "    plt.ylabel('Loss')\n",
    "    plt.legend()\n",
    "\n",
    "    plt.subplot(1, 2, 2)\n",
    "    plt.plot(accuracy_history, label=' Accuracy')\n",
    "    plt.title(' Accuracy')\n",
    "    plt.xlabel('Epochs')\n",
    "    plt.ylabel('Accuracy')\n",
    "    plt.legend()\n",
    "\n",
    "    plt.show()\n"
   ]
  },
  {
   "cell_type": "markdown",
   "metadata": {},
   "source": [
    " Parameters: learning rate= 0.1, batch size= 128, nbr of iterations= 50"
   ]
  },
  {
   "cell_type": "markdown",
   "metadata": {},
   "source": [
    "# MNIST dataset import "
   ]
  },
  {
   "cell_type": "code",
   "execution_count": 24,
   "metadata": {},
   "outputs": [
    {
     "name": "stderr",
     "output_type": "stream",
     "text": [
      "2024-03-09 19:40:22.457184: I external/local_tsl/tsl/cuda/cudart_stub.cc:31] Could not find cuda drivers on your machine, GPU will not be used.\n",
      "2024-03-09 19:40:22.991807: E external/local_xla/xla/stream_executor/cuda/cuda_dnn.cc:9261] Unable to register cuDNN factory: Attempting to register factory for plugin cuDNN when one has already been registered\n",
      "2024-03-09 19:40:22.991868: E external/local_xla/xla/stream_executor/cuda/cuda_fft.cc:607] Unable to register cuFFT factory: Attempting to register factory for plugin cuFFT when one has already been registered\n",
      "2024-03-09 19:40:23.036820: E external/local_xla/xla/stream_executor/cuda/cuda_blas.cc:1515] Unable to register cuBLAS factory: Attempting to register factory for plugin cuBLAS when one has already been registered\n",
      "2024-03-09 19:40:23.207223: I external/local_tsl/tsl/cuda/cudart_stub.cc:31] Could not find cuda drivers on your machine, GPU will not be used.\n",
      "2024-03-09 19:40:23.209819: I tensorflow/core/platform/cpu_feature_guard.cc:182] This TensorFlow binary is optimized to use available CPU instructions in performance-critical operations.\n",
      "To enable the following instructions: AVX2 FMA, in other operations, rebuild TensorFlow with the appropriate compiler flags.\n",
      "2024-03-09 19:40:25.410424: W tensorflow/compiler/tf2tensorrt/utils/py_utils.cc:38] TF-TRT Warning: Could not find TensorRT\n"
     ]
    }
   ],
   "source": [
    "import tensorflow as tf\n",
    "import tensorflow.keras as keras\n",
    "(x_train, y_train), (x_test, y_test) = tf.keras.datasets.mnist.load_data()\n"
   ]
  },
  {
   "cell_type": "code",
   "execution_count": 25,
   "metadata": {},
   "outputs": [
    {
     "name": "stdout",
     "output_type": "stream",
     "text": [
      "X_train: (60000, 28, 28)\n",
      "Y_train: (60000,)\n",
      "X_test:  (10000, 28, 28)\n",
      "Y_test:  (10000,)\n"
     ]
    }
   ],
   "source": [
    "print('X_train: ' + str(x_train.shape))\n",
    "print('Y_train: ' + str(y_train.shape))\n",
    "print('X_test:  '  + str(x_test.shape))\n",
    "print('Y_test:  '  + str(y_test.shape))"
   ]
  },
  {
   "cell_type": "markdown",
   "metadata": {},
   "source": [
    "# Reshaping"
   ]
  },
  {
   "cell_type": "code",
   "execution_count": 26,
   "metadata": {},
   "outputs": [],
   "source": [
    "x_train=x_train.reshape(x_train.shape[0],x_train.shape[1]*x_train.shape[2])\n",
    "x_test=x_test.reshape(x_test.shape[0],x_test.shape[1]*x_test.shape[2])"
   ]
  },
  {
   "cell_type": "code",
   "execution_count": 27,
   "metadata": {},
   "outputs": [
    {
     "name": "stdout",
     "output_type": "stream",
     "text": [
      "x_train: (60000, 784)\n",
      "y_train: (60000,)\n",
      "x_test:  (10000, 784)\n",
      "y_test:  (10000,)\n"
     ]
    }
   ],
   "source": [
    "print('x_train: ' + str(x_train.shape))\n",
    "print('y_train: ' + str(y_train.shape))\n",
    "print('x_test:  '  + str(x_test.shape))\n",
    "print('y_test:  '  + str(y_test.shape))"
   ]
  },
  {
   "cell_type": "code",
   "execution_count": 28,
   "metadata": {},
   "outputs": [
    {
     "data": {
      "text/plain": [
       "array([  0,   0,   0,   0,   0,   0,   0,   0,   0,   0,   0,   0,   0,\n",
       "         0,   0,   0,   0,   0,   0,   0,   0,   0,   0,   0,   0,   0,\n",
       "         0,   0,   0,   0,   0,   0,   0,   0,   0,   0,   0,   0,   0,\n",
       "         0,   0,   0,   0,   0,   0,   0,   0,   0,   0,   0,   0,   0,\n",
       "         0,   0,   0,   0,   0,   0,   0,   0,   0,   0,   0,   0,   0,\n",
       "         0,   0,   0,   0,   0,   0,   0,   0,   0,   0,   0,   0,   0,\n",
       "         0,   0,   0,   0,   0,   0,   0,   0,   0,   0,   0,   0,   0,\n",
       "         0,   0,   0,   0,   0,   0,   0,   0,   0,   0,   0,   0,   0,\n",
       "         0,   0,   0,   0,   0,   0,   0,   0,   0,   0,   0,   0,   0,\n",
       "         0,   0,   0,   0,   0,   0,   0,   0,   0,   0,   0,   0,   0,\n",
       "         0,   0,   0,   0,   0,   0,   0,   0,   0,   0,   0,   0,   0,\n",
       "         0,   0,   0,   0,   0,   0,   0,   0,   0,   3,  18,  18,  18,\n",
       "       126, 136, 175,  26, 166, 255, 247, 127,   0,   0,   0,   0,   0,\n",
       "         0,   0,   0,   0,   0,   0,   0,  30,  36,  94, 154, 170, 253,\n",
       "       253, 253, 253, 253, 225, 172, 253, 242, 195,  64,   0,   0,   0,\n",
       "         0,   0,   0,   0,   0,   0,   0,   0,  49, 238, 253, 253, 253,\n",
       "       253, 253, 253, 253, 253, 251,  93,  82,  82,  56,  39,   0,   0,\n",
       "         0,   0,   0,   0,   0,   0,   0,   0,   0,   0,  18, 219, 253,\n",
       "       253, 253, 253, 253, 198, 182, 247, 241,   0,   0,   0,   0,   0,\n",
       "         0,   0,   0,   0,   0,   0,   0,   0,   0,   0,   0,   0,   0,\n",
       "        80, 156, 107, 253, 253, 205,  11,   0,  43, 154,   0,   0,   0,\n",
       "         0,   0,   0,   0,   0,   0,   0,   0,   0,   0,   0,   0,   0,\n",
       "         0,   0,   0,  14,   1, 154, 253,  90,   0,   0,   0,   0,   0,\n",
       "         0,   0,   0,   0,   0,   0,   0,   0,   0,   0,   0,   0,   0,\n",
       "         0,   0,   0,   0,   0,   0,   0, 139, 253, 190,   2,   0,   0,\n",
       "         0,   0,   0,   0,   0,   0,   0,   0,   0,   0,   0,   0,   0,\n",
       "         0,   0,   0,   0,   0,   0,   0,   0,   0,  11, 190, 253,  70,\n",
       "         0,   0,   0,   0,   0,   0,   0,   0,   0,   0,   0,   0,   0,\n",
       "         0,   0,   0,   0,   0,   0,   0,   0,   0,   0,   0,   0,  35,\n",
       "       241, 225, 160, 108,   1,   0,   0,   0,   0,   0,   0,   0,   0,\n",
       "         0,   0,   0,   0,   0,   0,   0,   0,   0,   0,   0,   0,   0,\n",
       "         0,   0,  81, 240, 253, 253, 119,  25,   0,   0,   0,   0,   0,\n",
       "         0,   0,   0,   0,   0,   0,   0,   0,   0,   0,   0,   0,   0,\n",
       "         0,   0,   0,   0,   0,  45, 186, 253, 253, 150,  27,   0,   0,\n",
       "         0,   0,   0,   0,   0,   0,   0,   0,   0,   0,   0,   0,   0,\n",
       "         0,   0,   0,   0,   0,   0,   0,   0,  16,  93, 252, 253, 187,\n",
       "         0,   0,   0,   0,   0,   0,   0,   0,   0,   0,   0,   0,   0,\n",
       "         0,   0,   0,   0,   0,   0,   0,   0,   0,   0,   0,   0, 249,\n",
       "       253, 249,  64,   0,   0,   0,   0,   0,   0,   0,   0,   0,   0,\n",
       "         0,   0,   0,   0,   0,   0,   0,   0,   0,   0,   0,  46, 130,\n",
       "       183, 253, 253, 207,   2,   0,   0,   0,   0,   0,   0,   0,   0,\n",
       "         0,   0,   0,   0,   0,   0,   0,   0,   0,   0,   0,  39, 148,\n",
       "       229, 253, 253, 253, 250, 182,   0,   0,   0,   0,   0,   0,   0,\n",
       "         0,   0,   0,   0,   0,   0,   0,   0,   0,   0,   0,  24, 114,\n",
       "       221, 253, 253, 253, 253, 201,  78,   0,   0,   0,   0,   0,   0,\n",
       "         0,   0,   0,   0,   0,   0,   0,   0,   0,   0,   0,  23,  66,\n",
       "       213, 253, 253, 253, 253, 198,  81,   2,   0,   0,   0,   0,   0,\n",
       "         0,   0,   0,   0,   0,   0,   0,   0,   0,   0,   0,  18, 171,\n",
       "       219, 253, 253, 253, 253, 195,  80,   9,   0,   0,   0,   0,   0,\n",
       "         0,   0,   0,   0,   0,   0,   0,   0,   0,   0,   0,  55, 172,\n",
       "       226, 253, 253, 253, 253, 244, 133,  11,   0,   0,   0,   0,   0,\n",
       "         0,   0,   0,   0,   0,   0,   0,   0,   0,   0,   0,   0,   0,\n",
       "       136, 253, 253, 253, 212, 135, 132,  16,   0,   0,   0,   0,   0,\n",
       "         0,   0,   0,   0,   0,   0,   0,   0,   0,   0,   0,   0,   0,\n",
       "         0,   0,   0,   0,   0,   0,   0,   0,   0,   0,   0,   0,   0,\n",
       "         0,   0,   0,   0,   0,   0,   0,   0,   0,   0,   0,   0,   0,\n",
       "         0,   0,   0,   0,   0,   0,   0,   0,   0,   0,   0,   0,   0,\n",
       "         0,   0,   0,   0,   0,   0,   0,   0,   0,   0,   0,   0,   0,\n",
       "         0,   0,   0,   0,   0,   0,   0,   0,   0,   0,   0,   0,   0,\n",
       "         0,   0,   0,   0,   0,   0,   0,   0,   0,   0,   0,   0,   0,\n",
       "         0,   0,   0,   0], dtype=uint8)"
      ]
     },
     "execution_count": 28,
     "metadata": {},
     "output_type": "execute_result"
    }
   ],
   "source": [
    "x_train[0]"
   ]
  },
  {
   "cell_type": "markdown",
   "metadata": {},
   "source": [
    "# Normalization -->  (X — Xmin)/(Xmax-Xmin) = X/255 "
   ]
  },
  {
   "cell_type": "code",
   "execution_count": 29,
   "metadata": {},
   "outputs": [],
   "source": [
    "x_train=x_train/255\n",
    "x_test=x_test/255"
   ]
  },
  {
   "cell_type": "code",
   "execution_count": 30,
   "metadata": {},
   "outputs": [
    {
     "data": {
      "text/plain": [
       "array([0.        , 0.        , 0.        , 0.        , 0.        ,\n",
       "       0.        , 0.        , 0.        , 0.        , 0.        ,\n",
       "       0.        , 0.        , 0.        , 0.        , 0.        ,\n",
       "       0.        , 0.        , 0.        , 0.        , 0.        ,\n",
       "       0.        , 0.        , 0.        , 0.        , 0.        ,\n",
       "       0.        , 0.        , 0.        , 0.        , 0.        ,\n",
       "       0.        , 0.        , 0.        , 0.        , 0.        ,\n",
       "       0.        , 0.        , 0.        , 0.        , 0.        ,\n",
       "       0.        , 0.        , 0.        , 0.        , 0.        ,\n",
       "       0.        , 0.        , 0.        , 0.        , 0.        ,\n",
       "       0.        , 0.        , 0.        , 0.        , 0.        ,\n",
       "       0.        , 0.        , 0.        , 0.        , 0.        ,\n",
       "       0.        , 0.        , 0.        , 0.        , 0.        ,\n",
       "       0.        , 0.        , 0.        , 0.        , 0.        ,\n",
       "       0.        , 0.        , 0.        , 0.        , 0.        ,\n",
       "       0.        , 0.        , 0.        , 0.        , 0.        ,\n",
       "       0.        , 0.        , 0.        , 0.        , 0.        ,\n",
       "       0.        , 0.        , 0.        , 0.        , 0.        ,\n",
       "       0.        , 0.        , 0.        , 0.        , 0.        ,\n",
       "       0.        , 0.        , 0.        , 0.        , 0.        ,\n",
       "       0.        , 0.        , 0.        , 0.        , 0.        ,\n",
       "       0.        , 0.        , 0.        , 0.        , 0.        ,\n",
       "       0.        , 0.        , 0.        , 0.        , 0.        ,\n",
       "       0.        , 0.        , 0.        , 0.        , 0.        ,\n",
       "       0.        , 0.        , 0.        , 0.        , 0.        ,\n",
       "       0.        , 0.        , 0.        , 0.        , 0.        ,\n",
       "       0.        , 0.        , 0.        , 0.        , 0.        ,\n",
       "       0.        , 0.        , 0.        , 0.        , 0.        ,\n",
       "       0.        , 0.        , 0.        , 0.        , 0.        ,\n",
       "       0.        , 0.        , 0.        , 0.        , 0.        ,\n",
       "       0.        , 0.        , 0.01176471, 0.07058824, 0.07058824,\n",
       "       0.07058824, 0.49411765, 0.53333333, 0.68627451, 0.10196078,\n",
       "       0.65098039, 1.        , 0.96862745, 0.49803922, 0.        ,\n",
       "       0.        , 0.        , 0.        , 0.        , 0.        ,\n",
       "       0.        , 0.        , 0.        , 0.        , 0.        ,\n",
       "       0.        , 0.11764706, 0.14117647, 0.36862745, 0.60392157,\n",
       "       0.66666667, 0.99215686, 0.99215686, 0.99215686, 0.99215686,\n",
       "       0.99215686, 0.88235294, 0.6745098 , 0.99215686, 0.94901961,\n",
       "       0.76470588, 0.25098039, 0.        , 0.        , 0.        ,\n",
       "       0.        , 0.        , 0.        , 0.        , 0.        ,\n",
       "       0.        , 0.        , 0.        , 0.19215686, 0.93333333,\n",
       "       0.99215686, 0.99215686, 0.99215686, 0.99215686, 0.99215686,\n",
       "       0.99215686, 0.99215686, 0.99215686, 0.98431373, 0.36470588,\n",
       "       0.32156863, 0.32156863, 0.21960784, 0.15294118, 0.        ,\n",
       "       0.        , 0.        , 0.        , 0.        , 0.        ,\n",
       "       0.        , 0.        , 0.        , 0.        , 0.        ,\n",
       "       0.        , 0.07058824, 0.85882353, 0.99215686, 0.99215686,\n",
       "       0.99215686, 0.99215686, 0.99215686, 0.77647059, 0.71372549,\n",
       "       0.96862745, 0.94509804, 0.        , 0.        , 0.        ,\n",
       "       0.        , 0.        , 0.        , 0.        , 0.        ,\n",
       "       0.        , 0.        , 0.        , 0.        , 0.        ,\n",
       "       0.        , 0.        , 0.        , 0.        , 0.        ,\n",
       "       0.31372549, 0.61176471, 0.41960784, 0.99215686, 0.99215686,\n",
       "       0.80392157, 0.04313725, 0.        , 0.16862745, 0.60392157,\n",
       "       0.        , 0.        , 0.        , 0.        , 0.        ,\n",
       "       0.        , 0.        , 0.        , 0.        , 0.        ,\n",
       "       0.        , 0.        , 0.        , 0.        , 0.        ,\n",
       "       0.        , 0.        , 0.        , 0.        , 0.05490196,\n",
       "       0.00392157, 0.60392157, 0.99215686, 0.35294118, 0.        ,\n",
       "       0.        , 0.        , 0.        , 0.        , 0.        ,\n",
       "       0.        , 0.        , 0.        , 0.        , 0.        ,\n",
       "       0.        , 0.        , 0.        , 0.        , 0.        ,\n",
       "       0.        , 0.        , 0.        , 0.        , 0.        ,\n",
       "       0.        , 0.        , 0.        , 0.        , 0.54509804,\n",
       "       0.99215686, 0.74509804, 0.00784314, 0.        , 0.        ,\n",
       "       0.        , 0.        , 0.        , 0.        , 0.        ,\n",
       "       0.        , 0.        , 0.        , 0.        , 0.        ,\n",
       "       0.        , 0.        , 0.        , 0.        , 0.        ,\n",
       "       0.        , 0.        , 0.        , 0.        , 0.        ,\n",
       "       0.        , 0.        , 0.04313725, 0.74509804, 0.99215686,\n",
       "       0.2745098 , 0.        , 0.        , 0.        , 0.        ,\n",
       "       0.        , 0.        , 0.        , 0.        , 0.        ,\n",
       "       0.        , 0.        , 0.        , 0.        , 0.        ,\n",
       "       0.        , 0.        , 0.        , 0.        , 0.        ,\n",
       "       0.        , 0.        , 0.        , 0.        , 0.        ,\n",
       "       0.        , 0.1372549 , 0.94509804, 0.88235294, 0.62745098,\n",
       "       0.42352941, 0.00392157, 0.        , 0.        , 0.        ,\n",
       "       0.        , 0.        , 0.        , 0.        , 0.        ,\n",
       "       0.        , 0.        , 0.        , 0.        , 0.        ,\n",
       "       0.        , 0.        , 0.        , 0.        , 0.        ,\n",
       "       0.        , 0.        , 0.        , 0.        , 0.        ,\n",
       "       0.31764706, 0.94117647, 0.99215686, 0.99215686, 0.46666667,\n",
       "       0.09803922, 0.        , 0.        , 0.        , 0.        ,\n",
       "       0.        , 0.        , 0.        , 0.        , 0.        ,\n",
       "       0.        , 0.        , 0.        , 0.        , 0.        ,\n",
       "       0.        , 0.        , 0.        , 0.        , 0.        ,\n",
       "       0.        , 0.        , 0.        , 0.        , 0.17647059,\n",
       "       0.72941176, 0.99215686, 0.99215686, 0.58823529, 0.10588235,\n",
       "       0.        , 0.        , 0.        , 0.        , 0.        ,\n",
       "       0.        , 0.        , 0.        , 0.        , 0.        ,\n",
       "       0.        , 0.        , 0.        , 0.        , 0.        ,\n",
       "       0.        , 0.        , 0.        , 0.        , 0.        ,\n",
       "       0.        , 0.        , 0.        , 0.0627451 , 0.36470588,\n",
       "       0.98823529, 0.99215686, 0.73333333, 0.        , 0.        ,\n",
       "       0.        , 0.        , 0.        , 0.        , 0.        ,\n",
       "       0.        , 0.        , 0.        , 0.        , 0.        ,\n",
       "       0.        , 0.        , 0.        , 0.        , 0.        ,\n",
       "       0.        , 0.        , 0.        , 0.        , 0.        ,\n",
       "       0.        , 0.        , 0.        , 0.97647059, 0.99215686,\n",
       "       0.97647059, 0.25098039, 0.        , 0.        , 0.        ,\n",
       "       0.        , 0.        , 0.        , 0.        , 0.        ,\n",
       "       0.        , 0.        , 0.        , 0.        , 0.        ,\n",
       "       0.        , 0.        , 0.        , 0.        , 0.        ,\n",
       "       0.        , 0.        , 0.        , 0.18039216, 0.50980392,\n",
       "       0.71764706, 0.99215686, 0.99215686, 0.81176471, 0.00784314,\n",
       "       0.        , 0.        , 0.        , 0.        , 0.        ,\n",
       "       0.        , 0.        , 0.        , 0.        , 0.        ,\n",
       "       0.        , 0.        , 0.        , 0.        , 0.        ,\n",
       "       0.        , 0.        , 0.        , 0.        , 0.15294118,\n",
       "       0.58039216, 0.89803922, 0.99215686, 0.99215686, 0.99215686,\n",
       "       0.98039216, 0.71372549, 0.        , 0.        , 0.        ,\n",
       "       0.        , 0.        , 0.        , 0.        , 0.        ,\n",
       "       0.        , 0.        , 0.        , 0.        , 0.        ,\n",
       "       0.        , 0.        , 0.        , 0.        , 0.        ,\n",
       "       0.09411765, 0.44705882, 0.86666667, 0.99215686, 0.99215686,\n",
       "       0.99215686, 0.99215686, 0.78823529, 0.30588235, 0.        ,\n",
       "       0.        , 0.        , 0.        , 0.        , 0.        ,\n",
       "       0.        , 0.        , 0.        , 0.        , 0.        ,\n",
       "       0.        , 0.        , 0.        , 0.        , 0.        ,\n",
       "       0.        , 0.09019608, 0.25882353, 0.83529412, 0.99215686,\n",
       "       0.99215686, 0.99215686, 0.99215686, 0.77647059, 0.31764706,\n",
       "       0.00784314, 0.        , 0.        , 0.        , 0.        ,\n",
       "       0.        , 0.        , 0.        , 0.        , 0.        ,\n",
       "       0.        , 0.        , 0.        , 0.        , 0.        ,\n",
       "       0.        , 0.        , 0.07058824, 0.67058824, 0.85882353,\n",
       "       0.99215686, 0.99215686, 0.99215686, 0.99215686, 0.76470588,\n",
       "       0.31372549, 0.03529412, 0.        , 0.        , 0.        ,\n",
       "       0.        , 0.        , 0.        , 0.        , 0.        ,\n",
       "       0.        , 0.        , 0.        , 0.        , 0.        ,\n",
       "       0.        , 0.        , 0.        , 0.21568627, 0.6745098 ,\n",
       "       0.88627451, 0.99215686, 0.99215686, 0.99215686, 0.99215686,\n",
       "       0.95686275, 0.52156863, 0.04313725, 0.        , 0.        ,\n",
       "       0.        , 0.        , 0.        , 0.        , 0.        ,\n",
       "       0.        , 0.        , 0.        , 0.        , 0.        ,\n",
       "       0.        , 0.        , 0.        , 0.        , 0.        ,\n",
       "       0.        , 0.53333333, 0.99215686, 0.99215686, 0.99215686,\n",
       "       0.83137255, 0.52941176, 0.51764706, 0.0627451 , 0.        ,\n",
       "       0.        , 0.        , 0.        , 0.        , 0.        ,\n",
       "       0.        , 0.        , 0.        , 0.        , 0.        ,\n",
       "       0.        , 0.        , 0.        , 0.        , 0.        ,\n",
       "       0.        , 0.        , 0.        , 0.        , 0.        ,\n",
       "       0.        , 0.        , 0.        , 0.        , 0.        ,\n",
       "       0.        , 0.        , 0.        , 0.        , 0.        ,\n",
       "       0.        , 0.        , 0.        , 0.        , 0.        ,\n",
       "       0.        , 0.        , 0.        , 0.        , 0.        ,\n",
       "       0.        , 0.        , 0.        , 0.        , 0.        ,\n",
       "       0.        , 0.        , 0.        , 0.        , 0.        ,\n",
       "       0.        , 0.        , 0.        , 0.        , 0.        ,\n",
       "       0.        , 0.        , 0.        , 0.        , 0.        ,\n",
       "       0.        , 0.        , 0.        , 0.        , 0.        ,\n",
       "       0.        , 0.        , 0.        , 0.        , 0.        ,\n",
       "       0.        , 0.        , 0.        , 0.        , 0.        ,\n",
       "       0.        , 0.        , 0.        , 0.        , 0.        ,\n",
       "       0.        , 0.        , 0.        , 0.        , 0.        ,\n",
       "       0.        , 0.        , 0.        , 0.        , 0.        ,\n",
       "       0.        , 0.        , 0.        , 0.        , 0.        ,\n",
       "       0.        , 0.        , 0.        , 0.        ])"
      ]
     },
     "execution_count": 30,
     "metadata": {},
     "output_type": "execute_result"
    }
   ],
   "source": [
    "x_train[0]"
   ]
  },
  {
   "cell_type": "markdown",
   "metadata": {},
   "source": [
    "# Labeling : 5--> [0,0,0,0,0,1,0,0,0,0] (one hot encoding)"
   ]
  },
  {
   "cell_type": "code",
   "execution_count": 31,
   "metadata": {},
   "outputs": [
    {
     "name": "stdout",
     "output_type": "stream",
     "text": [
      "class label for first image 5\n",
      "class label for first image after labeling [0. 0. 0. 0. 0. 1. 0. 0. 0. 0.]\n"
     ]
    }
   ],
   "source": [
    "from keras.utils import to_categorical\n",
    "print(\"class label for first image\",y_train[0])\n",
    "y_train=tf.keras.utils.to_categorical(y_train,10)\n",
    "#y_test=tf.keras.utils.to_categorical(y_test,10)\n",
    "print(\"class label for first image after labeling\",y_train[0])\n"
   ]
  },
  {
   "cell_type": "code",
   "execution_count": 32,
   "metadata": {},
   "outputs": [
    {
     "data": {
      "text/plain": [
       "(60000, 10)"
      ]
     },
     "execution_count": 32,
     "metadata": {},
     "output_type": "execute_result"
    }
   ],
   "source": [
    "y_train.shape"
   ]
  },
  {
   "cell_type": "code",
   "execution_count": 33,
   "metadata": {},
   "outputs": [],
   "source": [
    "nx = x_train.shape[1]\n",
    "nh = 32\n",
    "ny = y_train.shape[1]"
   ]
  },
  {
   "cell_type": "code",
   "execution_count": 34,
   "metadata": {},
   "outputs": [],
   "source": [
    "params=init_params(nx,nh,ny)"
   ]
  },
  {
   "cell_type": "code",
   "execution_count": 35,
   "metadata": {},
   "outputs": [
    {
     "data": {
      "text/plain": [
       "(32, 785)"
      ]
     },
     "execution_count": 35,
     "metadata": {},
     "output_type": "execute_result"
    }
   ],
   "source": [
    "params['w1'].shape"
   ]
  },
  {
   "cell_type": "code",
   "execution_count": 36,
   "metadata": {},
   "outputs": [
    {
     "data": {
      "text/plain": [
       "(10, 33)"
      ]
     },
     "execution_count": 36,
     "metadata": {},
     "output_type": "execute_result"
    }
   ],
   "source": [
    "params['w2'].shape"
   ]
  },
  {
   "cell_type": "markdown",
   "metadata": {},
   "source": [
    "# adding the bias term for x_train and x_test in order to be passed to the forward function"
   ]
  },
  {
   "cell_type": "code",
   "execution_count": 37,
   "metadata": {},
   "outputs": [
    {
     "data": {
      "text/plain": [
       "array([[1., 0., 0., ..., 0., 0., 0.],\n",
       "       [1., 0., 0., ..., 0., 0., 0.],\n",
       "       [1., 0., 0., ..., 0., 0., 0.],\n",
       "       ...,\n",
       "       [1., 0., 0., ..., 0., 0., 0.],\n",
       "       [1., 0., 0., ..., 0., 0., 0.],\n",
       "       [1., 0., 0., ..., 0., 0., 0.]])"
      ]
     },
     "execution_count": 37,
     "metadata": {},
     "output_type": "execute_result"
    }
   ],
   "source": [
    "m = x_train.shape[0] \n",
    "x_train=np.c_[np.ones((m,1)),x_train]\n",
    "x_train"
   ]
  },
  {
   "cell_type": "code",
   "execution_count": 38,
   "metadata": {},
   "outputs": [
    {
     "name": "stdout",
     "output_type": "stream",
     "text": [
      "Epoch 1/50 - Loss: 0.7268 - Accuracy: 0.7830\n",
      "Epoch 2/50 - Loss: 0.3781 - Accuracy: 0.8945\n",
      "Epoch 3/50 - Loss: 0.3203 - Accuracy: 0.9129\n",
      "Epoch 4/50 - Loss: 0.2883 - Accuracy: 0.9236\n",
      "Epoch 5/50 - Loss: 0.2649 - Accuracy: 0.9299\n",
      "Epoch 6/50 - Loss: 0.2473 - Accuracy: 0.9359\n",
      "Epoch 7/50 - Loss: 0.2333 - Accuracy: 0.9399\n",
      "Epoch 8/50 - Loss: 0.2219 - Accuracy: 0.9431\n",
      "Epoch 9/50 - Loss: 0.2128 - Accuracy: 0.9460\n",
      "Epoch 10/50 - Loss: 0.2042 - Accuracy: 0.9487\n",
      "Epoch 11/50 - Loss: 0.1969 - Accuracy: 0.9512\n",
      "Epoch 12/50 - Loss: 0.1903 - Accuracy: 0.9530\n",
      "Epoch 13/50 - Loss: 0.1845 - Accuracy: 0.9542\n",
      "Epoch 14/50 - Loss: 0.1784 - Accuracy: 0.9564\n",
      "Epoch 15/50 - Loss: 0.1738 - Accuracy: 0.9578\n",
      "Epoch 16/50 - Loss: 0.1692 - Accuracy: 0.9590\n",
      "Epoch 17/50 - Loss: 0.1650 - Accuracy: 0.9605\n",
      "Epoch 18/50 - Loss: 0.1608 - Accuracy: 0.9617\n",
      "Epoch 19/50 - Loss: 0.1568 - Accuracy: 0.9629\n",
      "Epoch 20/50 - Loss: 0.1539 - Accuracy: 0.9642\n",
      "Epoch 21/50 - Loss: 0.1504 - Accuracy: 0.9648\n",
      "Epoch 22/50 - Loss: 0.1468 - Accuracy: 0.9659\n",
      "Epoch 23/50 - Loss: 0.1440 - Accuracy: 0.9670\n",
      "Epoch 24/50 - Loss: 0.1416 - Accuracy: 0.9683\n",
      "Epoch 25/50 - Loss: 0.1386 - Accuracy: 0.9689\n",
      "Epoch 26/50 - Loss: 0.1360 - Accuracy: 0.9698\n",
      "Epoch 27/50 - Loss: 0.1339 - Accuracy: 0.9704\n",
      "Epoch 28/50 - Loss: 0.1322 - Accuracy: 0.9712\n",
      "Epoch 29/50 - Loss: 0.1293 - Accuracy: 0.9718\n",
      "Epoch 30/50 - Loss: 0.1275 - Accuracy: 0.9719\n",
      "Epoch 31/50 - Loss: 0.1257 - Accuracy: 0.9728\n",
      "Epoch 32/50 - Loss: 0.1240 - Accuracy: 0.9739\n",
      "Epoch 33/50 - Loss: 0.1223 - Accuracy: 0.9739\n",
      "Epoch 34/50 - Loss: 0.1206 - Accuracy: 0.9750\n",
      "Epoch 35/50 - Loss: 0.1192 - Accuracy: 0.9755\n",
      "Epoch 36/50 - Loss: 0.1176 - Accuracy: 0.9758\n",
      "Epoch 37/50 - Loss: 0.1166 - Accuracy: 0.9763\n",
      "Epoch 38/50 - Loss: 0.1153 - Accuracy: 0.9764\n",
      "Epoch 39/50 - Loss: 0.1136 - Accuracy: 0.9771\n",
      "Epoch 40/50 - Loss: 0.1126 - Accuracy: 0.9775\n",
      "Epoch 41/50 - Loss: 0.1112 - Accuracy: 0.9780\n",
      "Epoch 42/50 - Loss: 0.1101 - Accuracy: 0.9785\n",
      "Epoch 43/50 - Loss: 0.1089 - Accuracy: 0.9788\n",
      "Epoch 44/50 - Loss: 0.1079 - Accuracy: 0.9790\n",
      "Epoch 45/50 - Loss: 0.1070 - Accuracy: 0.9792\n",
      "Epoch 46/50 - Loss: 0.1058 - Accuracy: 0.9801\n",
      "Epoch 47/50 - Loss: 0.1045 - Accuracy: 0.9800\n",
      "Epoch 48/50 - Loss: 0.1036 - Accuracy: 0.9804\n",
      "Epoch 49/50 - Loss: 0.1028 - Accuracy: 0.9810\n",
      "Epoch 50/50 - Loss: 0.1016 - Accuracy: 0.9812\n"
     ]
    },
    {
     "data": {
      "image/png": "[encoded data removed]",
      "text/plain": [
       "<Figure size 1200x400 with 2 Axes>"
      ]
     },
     "metadata": {},
     "output_type": "display_data"
    }
   ],
   "source": [
    "mini_batch_sgd(x_train,y_train,params,batch_size=128,epochs=50,eta=0.01)"
   ]
  },
  {
   "cell_type": "markdown",
   "metadata": {},
   "source": [
    "# Trying on the test data"
   ]
  },
  {
   "cell_type": "code",
   "execution_count": 39,
   "metadata": {},
   "outputs": [],
   "source": [
    "y_test=tf.keras.utils.to_categorical(y_test,10)"
   ]
  },
  {
   "cell_type": "code",
   "execution_count": 40,
   "metadata": {},
   "outputs": [],
   "source": [
    "nx_test = x_test.shape[1]\n",
    "nh_test = 32\n",
    "ny_test = y_test.shape[1]"
   ]
  },
  {
   "cell_type": "code",
   "execution_count": 41,
   "metadata": {},
   "outputs": [],
   "source": [
    "params=init_params(nx_test,nh_test,ny_test)"
   ]
  },
  {
   "cell_type": "code",
   "execution_count": 42,
   "metadata": {},
   "outputs": [
    {
     "data": {
      "text/plain": [
       "array([[1., 0., 0., ..., 0., 0., 0.],\n",
       "       [1., 0., 0., ..., 0., 0., 0.],\n",
       "       [1., 0., 0., ..., 0., 0., 0.],\n",
       "       ...,\n",
       "       [1., 0., 0., ..., 0., 0., 0.],\n",
       "       [1., 0., 0., ..., 0., 0., 0.],\n",
       "       [1., 0., 0., ..., 0., 0., 0.]])"
      ]
     },
     "execution_count": 42,
     "metadata": {},
     "output_type": "execute_result"
    }
   ],
   "source": [
    "m = x_test.shape[0] \n",
    "x_test=np.c_[np.ones((m,1)),x_test]\n",
    "x_test"
   ]
  },
  {
   "cell_type": "code",
   "execution_count": 43,
   "metadata": {},
   "outputs": [
    {
     "name": "stdout",
     "output_type": "stream",
     "text": [
      "Epoch 1/50 - Loss: 1.4940 - Accuracy: 0.5314\n",
      "Epoch 2/50 - Loss: 0.6827 - Accuracy: 0.7993\n"
     ]
    },
    {
     "name": "stdout",
     "output_type": "stream",
     "text": [
      "Epoch 3/50 - Loss: 0.5208 - Accuracy: 0.8523\n",
      "Epoch 4/50 - Loss: 0.4443 - Accuracy: 0.8777\n",
      "Epoch 5/50 - Loss: 0.3975 - Accuracy: 0.8933\n",
      "Epoch 6/50 - Loss: 0.3635 - Accuracy: 0.9034\n",
      "Epoch 7/50 - Loss: 0.3363 - Accuracy: 0.9110\n",
      "Epoch 8/50 - Loss: 0.3172 - Accuracy: 0.9206\n",
      "Epoch 9/50 - Loss: 0.2992 - Accuracy: 0.9264\n",
      "Epoch 10/50 - Loss: 0.2836 - Accuracy: 0.9298\n",
      "Epoch 11/50 - Loss: 0.2732 - Accuracy: 0.9346\n",
      "Epoch 12/50 - Loss: 0.2648 - Accuracy: 0.9373\n",
      "Epoch 13/50 - Loss: 0.2492 - Accuracy: 0.9408\n",
      "Epoch 14/50 - Loss: 0.2423 - Accuracy: 0.9436\n",
      "Epoch 15/50 - Loss: 0.2337 - Accuracy: 0.9471\n",
      "Epoch 16/50 - Loss: 0.2279 - Accuracy: 0.9504\n",
      "Epoch 17/50 - Loss: 0.2189 - Accuracy: 0.9517\n",
      "Epoch 18/50 - Loss: 0.2156 - Accuracy: 0.9544\n",
      "Epoch 19/50 - Loss: 0.2080 - Accuracy: 0.9551\n",
      "Epoch 20/50 - Loss: 0.2074 - Accuracy: 0.9581\n",
      "Epoch 21/50 - Loss: 0.1968 - Accuracy: 0.9590\n",
      "Epoch 22/50 - Loss: 0.1913 - Accuracy: 0.9607\n",
      "Epoch 23/50 - Loss: 0.1850 - Accuracy: 0.9624\n",
      "Epoch 24/50 - Loss: 0.1808 - Accuracy: 0.9654\n",
      "Epoch 25/50 - Loss: 0.1792 - Accuracy: 0.9651\n",
      "Epoch 26/50 - Loss: 0.1718 - Accuracy: 0.9667\n",
      "Epoch 27/50 - Loss: 0.1683 - Accuracy: 0.9689\n",
      "Epoch 28/50 - Loss: 0.1662 - Accuracy: 0.9706\n",
      "Epoch 29/50 - Loss: 0.1610 - Accuracy: 0.9714\n",
      "Epoch 30/50 - Loss: 0.1574 - Accuracy: 0.9718\n",
      "Epoch 31/50 - Loss: 0.1540 - Accuracy: 0.9734\n",
      "Epoch 32/50 - Loss: 0.1516 - Accuracy: 0.9742\n",
      "Epoch 33/50 - Loss: 0.1484 - Accuracy: 0.9753\n",
      "Epoch 34/50 - Loss: 0.1471 - Accuracy: 0.9761\n",
      "Epoch 35/50 - Loss: 0.1433 - Accuracy: 0.9766\n",
      "Epoch 36/50 - Loss: 0.1398 - Accuracy: 0.9773\n",
      "Epoch 37/50 - Loss: 0.1383 - Accuracy: 0.9777\n",
      "Epoch 38/50 - Loss: 0.1357 - Accuracy: 0.9783\n",
      "Epoch 39/50 - Loss: 0.1332 - Accuracy: 0.9788\n",
      "Epoch 40/50 - Loss: 0.1330 - Accuracy: 0.9795\n",
      "Epoch 41/50 - Loss: 0.1301 - Accuracy: 0.9800\n",
      "Epoch 42/50 - Loss: 0.1269 - Accuracy: 0.9806\n",
      "Epoch 43/50 - Loss: 0.1278 - Accuracy: 0.9810\n",
      "Epoch 44/50 - Loss: 0.1239 - Accuracy: 0.9822\n",
      "Epoch 45/50 - Loss: 0.1287 - Accuracy: 0.9824\n",
      "Epoch 46/50 - Loss: 0.1190 - Accuracy: 0.9830\n",
      "Epoch 47/50 - Loss: 0.1179 - Accuracy: 0.9833\n",
      "Epoch 48/50 - Loss: 0.1162 - Accuracy: 0.9836\n",
      "Epoch 49/50 - Loss: 0.1144 - Accuracy: 0.9844\n",
      "Epoch 50/50 - Loss: 0.1127 - Accuracy: 0.9843\n"
     ]
    },
    {
     "data": {
      "image/png": "[encoded data removed]",
      "text/plain": [
       "<Figure size 1200x400 with 2 Axes>"
      ]
     },
     "metadata": {},
     "output_type": "display_data"
    }
   ],
   "source": [
    "mini_batch_sgd(x_test,y_test,params,batch_size=128,epochs=50,eta=0.01)"
   ]
  },
  {
   "cell_type": "code",
   "execution_count": null,
   "metadata": {},
   "outputs": [],
   "source": []
  }
 ],
 "metadata": {
  "kernelspec": {
   "display_name": "Python 3 (ipykernel)",
   "language": "python",
   "name": "python3"
  },
  "language_info": {
   "codemirror_mode": {
    "name": "ipython",
    "version": 3
   },
   "file_extension": ".py",
   "mimetype": "text/x-python",
   "name": "python",
   "nbconvert_exporter": "python",
   "pygments_lexer": "ipython3",
   "version": "3.10.12"
  }
 },
 "nbformat": 4,
 "nbformat_minor": 2
}
